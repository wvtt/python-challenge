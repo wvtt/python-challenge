{
 "cells": [
  {
   "cell_type": "code",
   "execution_count": 50,
   "id": "7697a51e",
   "metadata": {},
   "outputs": [],
   "source": [
    "# import the pandas library\n",
    "import pandas as pd"
   ]
  },
  {
   "cell_type": "code",
   "execution_count": 51,
   "id": "d91ee9da",
   "metadata": {},
   "outputs": [],
   "source": [
    "# read csv file\n",
    "df = pd.read_csv('Resources/election_data.csv')"
   ]
  },
  {
   "cell_type": "code",
   "execution_count": 52,
   "id": "0fa73bce",
   "metadata": {},
   "outputs": [],
   "source": [
    "# compute total number of votes cast\n",
    "total_number = df.shape[0]"
   ]
  },
  {
   "cell_type": "code",
   "execution_count": 53,
   "id": "11d09601",
   "metadata": {},
   "outputs": [
    {
     "name": "stdout",
     "output_type": "stream",
     "text": [
      "Diana DeGette: 73.81% (272892)\n",
      "Charles Casper Stockham: 23.05% (85213)\n",
      "Raymon Anthony Doane: 3.14% (11606)\n"
     ]
    }
   ],
   "source": [
    "# compute complete list of candidates who received votes and their percentages\n",
    "# create dictionary where keys are candidates who received votes and values are the number of votes\n",
    "candidate_dictionary = df['Candidate'].value_counts().to_dict()\n",
    "\n",
    "for x in candidate_dictionary.keys():\n",
    "    percentage = round(candidate_dictionary[x]/total_number*100, 2)\n",
    "    print(x + ': ' + str(percentage) + '% (' + str(candidate_dictionary[x]) + ')')"
   ]
  },
  {
   "cell_type": "code",
   "execution_count": 54,
   "id": "12871d53",
   "metadata": {},
   "outputs": [],
   "source": [
    "# compute the winner of the election based on popular vote\n",
    "winner = max(candidate_dictionary, key=candidate_dictionary.get)"
   ]
  },
  {
   "cell_type": "code",
   "execution_count": 55,
   "id": "f1b48f9c",
   "metadata": {},
   "outputs": [
    {
     "name": "stdout",
     "output_type": "stream",
     "text": [
      "  Election Results\n",
      "----------------------------\n",
      "Total Votes: 369711\n",
      "----------------------------\n",
      "Diana DeGette: 73.81% (272892)\n",
      "Charles Casper Stockham: 23.05% (85213)\n",
      "Raymon Anthony Doane: 3.14% (11606)\n",
      "----------------------------\n",
      "Winner: Diana DeGette\n",
      "----------------------------\n"
     ]
    }
   ],
   "source": [
    "print('  Election Results' + '\\n' + '----------------------------' )\n",
    "print('Total Votes: ' + str(total_number)+ '\\n' + '----------------------------')\n",
    "for x in candidate_dictionary.keys():\n",
    "    percentage = round(candidate_dictionary[x]/total_number*100, 2)\n",
    "    print(x + ': ' + str(percentage) + '% (' + str(candidate_dictionary[x]) + ')')\n",
    "print('----------------------------')\n",
    "print('Winner: ' + str(winner))\n",
    "print('----------------------------')"
   ]
  },
  {
   "cell_type": "code",
   "execution_count": 56,
   "id": "83afd3ed",
   "metadata": {},
   "outputs": [],
   "source": [
    "# save to .txt file\n",
    "f = open('analysis/analysis_results.txt','w+')\n",
    "\n",
    "f.write('  Financial Analysis' + '\\n' + '----------------------------' + '\\n')\n",
    "f.write('Total Votes: ' + str(total_number)+ '\\n' + '----------------------------' + '\\n')\n",
    "\n",
    "for candidate in candidate_dictionary.keys() :\n",
    "    percentage = round(candidate_dictionary[candidate]/total_number*100, 2)\n",
    "    f.write(candidate + ': ' + str(percentage) + '% (' + str(candidate_dictionary[candidate]) + ')' + '\\n')\n",
    "\n",
    "f.write('----------------------------' + '\\n')\n",
    "f.write('Winner: ' + str(winner) + '\\n')\n",
    "f.write('----------------------------')\n",
    "\n",
    "f.close()"
   ]
  }
 ],
 "metadata": {
  "kernelspec": {
   "display_name": "Python 3 (ipykernel)",
   "language": "python",
   "name": "python3"
  },
  "language_info": {
   "codemirror_mode": {
    "name": "ipython",
    "version": 3
   },
   "file_extension": ".py",
   "mimetype": "text/x-python",
   "name": "python",
   "nbconvert_exporter": "python",
   "pygments_lexer": "ipython3",
   "version": "3.9.13"
  }
 },
 "nbformat": 4,
 "nbformat_minor": 5
}
