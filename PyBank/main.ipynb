{
 "cells": [
  {
   "cell_type": "code",
   "execution_count": 2,
   "id": "f9755f84",
   "metadata": {},
   "outputs": [],
   "source": [
    "# importing the pandas library\n",
    "import pandas as pd"
   ]
  },
  {
   "cell_type": "code",
   "execution_count": 4,
   "id": "625e6ed3",
   "metadata": {},
   "outputs": [
    {
     "data": {
      "text/html": [
       "<div>\n",
       "<style scoped>\n",
       "    .dataframe tbody tr th:only-of-type {\n",
       "        vertical-align: middle;\n",
       "    }\n",
       "\n",
       "    .dataframe tbody tr th {\n",
       "        vertical-align: top;\n",
       "    }\n",
       "\n",
       "    .dataframe thead th {\n",
       "        text-align: right;\n",
       "    }\n",
       "</style>\n",
       "<table border=\"1\" class=\"dataframe\">\n",
       "  <thead>\n",
       "    <tr style=\"text-align: right;\">\n",
       "      <th></th>\n",
       "      <th>Date</th>\n",
       "      <th>Profit/Losses</th>\n",
       "    </tr>\n",
       "  </thead>\n",
       "  <tbody>\n",
       "    <tr>\n",
       "      <th>0</th>\n",
       "      <td>Jan-10</td>\n",
       "      <td>1088983</td>\n",
       "    </tr>\n",
       "    <tr>\n",
       "      <th>1</th>\n",
       "      <td>Feb-10</td>\n",
       "      <td>-354534</td>\n",
       "    </tr>\n",
       "    <tr>\n",
       "      <th>2</th>\n",
       "      <td>Mar-10</td>\n",
       "      <td>276622</td>\n",
       "    </tr>\n",
       "    <tr>\n",
       "      <th>3</th>\n",
       "      <td>Apr-10</td>\n",
       "      <td>-728133</td>\n",
       "    </tr>\n",
       "    <tr>\n",
       "      <th>4</th>\n",
       "      <td>May-10</td>\n",
       "      <td>852993</td>\n",
       "    </tr>\n",
       "    <tr>\n",
       "      <th>5</th>\n",
       "      <td>Jun-10</td>\n",
       "      <td>563721</td>\n",
       "    </tr>\n",
       "    <tr>\n",
       "      <th>6</th>\n",
       "      <td>Jul-10</td>\n",
       "      <td>-535208</td>\n",
       "    </tr>\n",
       "    <tr>\n",
       "      <th>7</th>\n",
       "      <td>Aug-10</td>\n",
       "      <td>632349</td>\n",
       "    </tr>\n",
       "    <tr>\n",
       "      <th>8</th>\n",
       "      <td>Sep-10</td>\n",
       "      <td>-173744</td>\n",
       "    </tr>\n",
       "    <tr>\n",
       "      <th>9</th>\n",
       "      <td>Oct-10</td>\n",
       "      <td>950741</td>\n",
       "    </tr>\n",
       "  </tbody>\n",
       "</table>\n",
       "</div>"
      ],
      "text/plain": [
       "     Date  Profit/Losses\n",
       "0  Jan-10        1088983\n",
       "1  Feb-10        -354534\n",
       "2  Mar-10         276622\n",
       "3  Apr-10        -728133\n",
       "4  May-10         852993\n",
       "5  Jun-10         563721\n",
       "6  Jul-10        -535208\n",
       "7  Aug-10         632349\n",
       "8  Sep-10        -173744\n",
       "9  Oct-10         950741"
      ]
     },
     "execution_count": 4,
     "metadata": {},
     "output_type": "execute_result"
    }
   ],
   "source": [
    "# reading the csv file\n",
    "df = pd.read_csv('Resources/budget_data.csv')"
   ]
  },
  {
   "cell_type": "code",
   "execution_count": 6,
   "id": "ef1b64c7",
   "metadata": {},
   "outputs": [
    {
     "data": {
      "text/plain": [
       "86"
      ]
     },
     "execution_count": 6,
     "metadata": {},
     "output_type": "execute_result"
    }
   ],
   "source": [
    "# computing the number of months\n",
    "number_months = len(df['Date'])\n",
    "\n",
    "number_months"
   ]
  },
  {
   "cell_type": "code",
   "execution_count": 8,
   "id": "bf46209d",
   "metadata": {},
   "outputs": [
    {
     "data": {
      "text/plain": [
       "22564198"
      ]
     },
     "execution_count": 8,
     "metadata": {},
     "output_type": "execute_result"
    }
   ],
   "source": [
    "# computing net total amount of \"Profit/Losses\" over the entire period\n",
    "total = df['Profit/Losses'].sum()\n",
    "\n",
    "total"
   ]
  },
  {
   "cell_type": "code",
   "execution_count": 21,
   "id": "7f51e1a4",
   "metadata": {},
   "outputs": [
    {
     "data": {
      "text/plain": [
       "262374.4"
      ]
     },
     "execution_count": 21,
     "metadata": {},
     "output_type": "execute_result"
    }
   ],
   "source": [
    "# computing the average of those changes over the entire period\n",
    "average = round(df['Profit/Losses'].mean(),2)\n",
    "\n",
    "average"
   ]
  },
  {
   "cell_type": "code",
   "execution_count": 33,
   "id": "b6e01a92",
   "metadata": {},
   "outputs": [
    {
     "data": {
      "text/html": [
       "<div>\n",
       "<style scoped>\n",
       "    .dataframe tbody tr th:only-of-type {\n",
       "        vertical-align: middle;\n",
       "    }\n",
       "\n",
       "    .dataframe tbody tr th {\n",
       "        vertical-align: top;\n",
       "    }\n",
       "\n",
       "    .dataframe thead th {\n",
       "        text-align: right;\n",
       "    }\n",
       "</style>\n",
       "<table border=\"1\" class=\"dataframe\">\n",
       "  <thead>\n",
       "    <tr style=\"text-align: right;\">\n",
       "      <th></th>\n",
       "      <th>Date</th>\n",
       "      <th>Profit/Losses</th>\n",
       "    </tr>\n",
       "  </thead>\n",
       "  <tbody>\n",
       "    <tr>\n",
       "      <th>38</th>\n",
       "      <td>Mar-13</td>\n",
       "      <td>1141840</td>\n",
       "    </tr>\n",
       "  </tbody>\n",
       "</table>\n",
       "</div>"
      ],
      "text/plain": [
       "      Date  Profit/Losses\n",
       "38  Mar-13        1141840"
      ]
     },
     "execution_count": 33,
     "metadata": {},
     "output_type": "execute_result"
    }
   ],
   "source": [
    "# computing the greatest increase in profits over the entire period\n",
    "maximum = df[df['Profit/Losses'] == df['Profit/Losses'].max()]\n",
    "date_max = maximum['Date'].values[0]\n",
    "value_max = maximum['Profit/Losses'].values[0]\n",
    "\n",
    "maximum"
   ]
  },
  {
   "cell_type": "code",
   "execution_count": 35,
   "id": "bf10e999",
   "metadata": {
    "scrolled": true
   },
   "outputs": [
    {
     "data": {
      "text/html": [
       "<div>\n",
       "<style scoped>\n",
       "    .dataframe tbody tr th:only-of-type {\n",
       "        vertical-align: middle;\n",
       "    }\n",
       "\n",
       "    .dataframe tbody tr th {\n",
       "        vertical-align: top;\n",
       "    }\n",
       "\n",
       "    .dataframe thead th {\n",
       "        text-align: right;\n",
       "    }\n",
       "</style>\n",
       "<table border=\"1\" class=\"dataframe\">\n",
       "  <thead>\n",
       "    <tr style=\"text-align: right;\">\n",
       "      <th></th>\n",
       "      <th>Date</th>\n",
       "      <th>Profit/Losses</th>\n",
       "    </tr>\n",
       "  </thead>\n",
       "  <tbody>\n",
       "    <tr>\n",
       "      <th>11</th>\n",
       "      <td>Dec-10</td>\n",
       "      <td>-1194133</td>\n",
       "    </tr>\n",
       "  </tbody>\n",
       "</table>\n",
       "</div>"
      ],
      "text/plain": [
       "      Date  Profit/Losses\n",
       "11  Dec-10       -1194133"
      ]
     },
     "execution_count": 35,
     "metadata": {},
     "output_type": "execute_result"
    }
   ],
   "source": [
    "# computing the greatest decrease in profits over the entire period\n",
    "minimum = df[df['Profit/Losses'] == df['Profit/Losses'].min()]\n",
    "date_min = minimum['Date'].values[0]\n",
    "value_min = minimum['Profit/Losses'].values[0]\n",
    "\n",
    "minimum"
   ]
  },
  {
   "cell_type": "code",
   "execution_count": 39,
   "id": "6bc4ecd8",
   "metadata": {},
   "outputs": [
    {
     "name": "stdout",
     "output_type": "stream",
     "text": [
      "  Financial Analysis\n",
      "----------------------------\n",
      "\n",
      "Total Months: 86\n",
      "Total: $22564198\n",
      "Average Change: $262374.4\n",
      "Greatest Increase in Profits: Mar-13\t$1141840\n",
      "Greatest Decrease in Profits: Dec-10\t$-1194133\n"
     ]
    }
   ],
   "source": [
    "# printing the analysis\n",
    "print('  Financial Analysis' + '\\n' + '----------------------------' + '\\n')\n",
    "print('Total Months: ' + str(number_months))  \n",
    "print('Total: $' + str(total))  \n",
    "print('Average Change: $' + str(average))\n",
    "print('Greatest Increase in Profits: ' + str(date_max) + '\\t' + '$' + str(value_max))  \n",
    "print('Greatest Decrease in Profits: ' + str(date_min) + '\\t' + '$' + str(value_min))"
   ]
  },
  {
   "cell_type": "code",
   "execution_count": 40,
   "id": "d04bb430",
   "metadata": {},
   "outputs": [],
   "source": [
    "# saving in .txt file\n",
    "f = open(\"./analysis/analysis_results.txt\",\"w+\")\n",
    "\n",
    "f.write('  Financial Analysis' + '\\n' + '----------------------------' + '\\n')\n",
    "f.write('Total Months: ' + str(number_months) + '\\n')\n",
    "f.write('Total: $' + str(total) + '\\n')\n",
    "f.write('Average Change: $' + str(average) + '\\n')\n",
    "f.write('Greatest Increase in Profits: ' + str(date_max) + '\\t' + '$' + str(value_max) + '\\n')\n",
    "f.write('Greatest Decrease in Profits: ' + str(date_min) + '\\t' + '$' + str(value_min) + '\\n')\n",
    "\n",
    "f.close()\n"
   ]
  }
 ],
 "metadata": {
  "kernelspec": {
   "display_name": "Python 3 (ipykernel)",
   "language": "python",
   "name": "python3"
  },
  "language_info": {
   "codemirror_mode": {
    "name": "ipython",
    "version": 3
   },
   "file_extension": ".py",
   "mimetype": "text/x-python",
   "name": "python",
   "nbconvert_exporter": "python",
   "pygments_lexer": "ipython3",
   "version": "3.9.13"
  }
 },
 "nbformat": 4,
 "nbformat_minor": 5
}
